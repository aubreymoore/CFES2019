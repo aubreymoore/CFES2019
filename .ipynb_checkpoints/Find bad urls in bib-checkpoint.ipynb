{
 "cells": [
  {
   "cell_type": "code",
   "execution_count": 4,
   "metadata": {},
   "outputs": [],
   "source": [
    "import sys\n",
    "import urllib2\n",
    "import datetime"
   ]
  },
  {
   "cell_type": "raw",
   "metadata": {},
   "source": [
    "@unpublished{deloso_parasitoid_2018,\n",
    "  title = {Parasitoid {{Surveys}} in {{Cycad Habitats}} on {{Guam}}},\n",
    "  author = {Deloso, Benjamin E. and Moore, Aubrey and Marler, Thomas E.},\n",
    "  date = {2018-08-03},\n",
    "  url = {https://ashs.confex.com/ashs/2018/meetingapp.cgi/Paper/28523},\n",
    "  urldate = {2018-08-25},\n",
    "  eventtitle = {American {{Society}} for {{Horticulture Science}} 2018 {{Annual Conference}}},\n",
    "  keywords = {presentation2018},\n",
    "  venue = {{Washington, D.C.}}\n",
    "}"
   ]
  },
  {
   "cell_type": "code",
   "execution_count": null,
   "metadata": {},
   "outputs": [],
   "source": [
    "pattern = '@.*{.*}'"
   ]
  },
  {
   "cell_type": "code",
   "execution_count": 6,
   "metadata": {},
   "outputs": [],
   "source": [
    "import requests\n",
    "\n",
    "def url_ok(url):\n",
    "    r = requests.head(url)\n",
    "    return r.status_code == 200"
   ]
  },
  {
   "cell_type": "code",
   "execution_count": 31,
   "metadata": {},
   "outputs": [],
   "source": [
    "import datetime\n",
    "\n",
    "def time_string():\n",
    "    now = datetime.datetime.now()\n",
    "    return now.strftime(\"%Y-%m-%d %H:%M:%S\")"
   ]
  },
  {
   "cell_type": "code",
   "execution_count": 32,
   "metadata": {},
   "outputs": [
    {
     "name": "stdout",
     "output_type": "stream",
     "text": [
      "Scan of MooreAfter2017.bib started at 2020-02-06 17:59:36\n",
      "\n",
      "\n",
      "Line 15:   https://ndownloader.figshare.com/files/13141172 302\n",
      "Line 36:   https://www.apsnet.org/members/divisions/pac/meetings/Documents/APS_PacificDivisionCSPP_2018_PROGRAM%20SCHEDULE.pdf 404\n",
      "Line 47:   https://ashs.confex.com/ashs/2018/meetingapp.cgi/Paper/28523 404\n",
      "Line 59:   osf.io/7adhq} Invalid URL 'osf.io/7adhq}': No schema supplied. Perhaps you meant http://osf.io/7adhq}?\n",
      "Line 67:   osf.io/4hbgn} Invalid URL 'osf.io/4hbgn}': No schema supplied. Perhaps you meant http://osf.io/4hbgn}?\n",
      "Line 107:   osf.io/8gsdt} Invalid URL 'osf.io/8gsdt}': No schema supplied. Perhaps you meant http://osf.io/8gsdt}?\n",
      "Line 123:   https://github.com/aubreymoore/2019-Forest-Service-Review/raw/master/2019%20Forest%20Service%20Review.pdf 302\n",
      "Line 132:   https://github.com/aubreymoore/Miscellaneous-Docs-for-CFES2018/raw/master/Animal%20Scientist%20Announcement%20-%20American%20Society%20of%20Animal%20Science.pdf 302\n",
      "Line 140:   https://www.zotero.org/aubreymoore/items/7VDF7QFR/file 302\n",
      "Line 237:   https://github.com/aubreymoore/answers-to-pitch-questions/raw/master/pitch.pdf 404\n",
      "Line 247:   https://github.com/aubreymoore/Guam-Bioinvasion-July-2018/raw/master/compress_biological_invasion_of_guam_July_2018.pdf 302\n",
      "Line 327:   https://github.com/aubreymoore/Miscellaneous-Docs-for-CFES2018/raw/master/BYOB_03_07_18.pdf 302\n",
      "Line 345:   osf.io/kbg3m} Invalid URL 'osf.io/kbg3m}': No schema supplied. Perhaps you meant http://osf.io/kbg3m}?\n",
      "Line 353:   osf.io/czr8t} Invalid URL 'osf.io/czr8t}': No schema supplied. Perhaps you meant http://osf.io/czr8t}?\n",
      "Line 371:   osf.io/75u4g} Invalid URL 'osf.io/75u4g}': No schema supplied. Perhaps you meant http://osf.io/75u4g}?\n",
      "Line 388:   osf.io/4sh2w} Invalid URL 'osf.io/4sh2w}': No schema supplied. Perhaps you meant http://osf.io/4sh2w}?\n",
      "Line 395:   https://github.com/aubreymoore/doi-CRB-biocontrol-project/blob/master/report2/report2.pdf} 404\n",
      "Line 402:   https://github.com/aubreymoore/doi-CRB-biocontrol-project/blob/master/report%203/DOI_OIA_report3_ebook.pdf} 404\n",
      "Line 410:   osf.io/ndz2h Invalid URL 'osf.io/ndz2h': No schema supplied. Perhaps you meant http://osf.io/ndz2h?\n",
      "Line 419:   osf.io/befgz} Invalid URL 'osf.io/befgz}': No schema supplied. Perhaps you meant http://osf.io/befgz}?\n",
      "Line 439:   https://github.com/aubreymoore/Miscellaneous-Docs-for-CFES2018/raw/master/FY18-GU-CRB%20biocontrol%20workplan.pdf 302\n",
      "Line 453:   https://github.com/aubreymoore/Free-Cell-Phone-Apps-for-Pest-Surveys/raw/master/iNatEpi.pdf 302\n",
      "Line 472:   https://github.com/aubreymoore/CFES2019/blob/master/refs/FY17%20FB%20Work%20and%20Financial%20Plan.pdf} 404\n",
      "Line 479:   https://github.com/aubreymoore/CFES2019/blob/master/refs/FY18-FB-budget%20.pdf} 404\n",
      "Line 486:   https://github.com/aubreymoore/Miscellaneous-Docs-for-CFES2018/raw/master/MooreFB19.pdf 302\n",
      "Line 494:   https://github.com/aubreymoore/Miscellaneous-Docs-for-CFES2018/raw/master/MooreFB19.pdf 302\n",
      "Line 502:   https://github.com/aubreymoore/CFES2019/blob/master/refs/Moore%20FY20%20PPA%20Suggestion.pdf} 404\n",
      "Line 515:   https://github.com/aubreymoore/Jupyter-Notebooks-for-UOG-4H-RPi-Workshop} 404\n",
      "Line 551:   osf.io/qdg46} Invalid URL 'osf.io/qdg46}': No schema supplied. Perhaps you meant http://osf.io/qdg46}?\n",
      "Line 614:   https://github.com/aubreymoore/Miscellaneous-Docs-for-CFES2018/raw/master/internship.pdf 302\n",
      "Line 649:   https://github.com/aubreymoore/Miscellaneous-Docs-for-CFES2018/raw/master/ms_proposal_2018.pdf 302\n",
      "Line 667:   osf.io/er856} Invalid URL 'osf.io/er856}': No schema supplied. Perhaps you meant http://osf.io/er856}?\n",
      "Line 674:   https://github.com/aubreymoore/Traminda-aventiaria} 404\n",
      "Line 681:   https://github.com/aubreymoore/Miscellaneous-Docs-for-CFES2018/raw/master/Guam%20WPDN-Accomplishments%20Summary%20Form%202018%20final.pdf 302\n",
      "Line 689:   http://scan-bugs.org/portal/collections/list.php?collector=Laird-Hopkins&db=all&page=1 301\n",
      "Line 707:   https://osf.io/ux6jn/} 404\n",
      "Line 715:   osf.io/xbt6z} Invalid URL 'osf.io/xbt6z}': No schema supplied. Perhaps you meant http://osf.io/xbt6z}?\n",
      "Line 723:   osf.io/rz5u6} Invalid URL 'osf.io/rz5u6}': No schema supplied. Perhaps you meant http://osf.io/rz5u6}?\n",
      "Line 731:   osf.io/rz5u6 Invalid URL 'osf.io/rz5u6': No schema supplied. Perhaps you meant http://osf.io/rz5u6?\n",
      "Line 747:   https://www.radionz.co.nz/international/programmes/datelinepacific/audio/2018657196/viral-control-wanted-for-coconut-rhinoceros-beetle 301\n",
      "Line 762:   osf.io/ux6jn} Invalid URL 'osf.io/ux6jn}': No schema supplied. Perhaps you meant http://osf.io/ux6jn}?\n",
      "Line 770:   https://www.overleaf.com/project/5d96d1041645a10001ea21ae} 404\n",
      "Line 777:   https://github.com/aubreymoore/4HRPi/raw/master/report.pdf} 404\n",
      "Line 785:   https://arpha.pensoft.net/preview.php?document_id=13165} 302\n",
      "Line 792:   http://scan-bugs.org/portal/collections/misc/collprofiles.php?collid=180 301\n",
      "Line 802:   https://github.com/aubreymoore/answers-to-pitch-questions/blob/master/SERDP_Proposal/preproposal.pdf} 404\n",
      "Line 830:   https://github.com/aubreymoore/Miscellaneous-Docs-for-CFES2018/raw/master/Berkeley_Trip_report.pdf 302\n",
      "Line 839:   https://github.com/aubreymoore/Miscellaneous-Docs-for-CFES2018/raw/master/Univ%20of%20Guam%20WPDN%20budget%202017-18-Final.pdf 302\n",
      "Line 848:   osf.io/rdmu9} Invalid URL 'osf.io/rdmu9}': No schema supplied. Perhaps you meant http://osf.io/rdmu9}?\n",
      "Line 856:   osf.io/4f9bs} Invalid URL 'osf.io/4f9bs}': No schema supplied. Perhaps you meant http://osf.io/4f9bs}?\n",
      "Line 864:   osf.io/cgmq9} Invalid URL 'osf.io/cgmq9}': No schema supplied. Perhaps you meant http://osf.io/cgmq9}?\n",
      "Line 872:   osf.io/qymrt} Invalid URL 'osf.io/qymrt}': No schema supplied. Perhaps you meant http://osf.io/qymrt}?\n",
      "Line 879:   https://github.com/aubreymoore/Miscellaneous-Docs-for-CFES2018/raw/master/UOG%20Animal%20Scientist%20Announcement.pdf 302\n",
      "Line 887:   https://github.com/aubreymoore/CFES2019/blob/master/refs/FB17_report1.pdf} 404\n",
      "Line 894:   https://github.com/aubreymoore/CFES2019/blob/master/refs/FB17_report2.pdf} 404\n",
      "Line 907:   https://github.com/aubreymoore/CFES2019/blob/master/refs/FB18_report2.pdf} 404\n",
      "Line 914:   https://github.com/aubreymoore/Free-Cell-Phone-Apps-for-Pest-Surveys/raw/master/2018%20CRB%20workshop%20for%20CNMI.pdf 302\n",
      "Scan of MooreAfter2017.bib ended at 2020-02-06 18:01:29\n"
     ]
    }
   ],
   "source": [
    "filepath = 'MooreAfter2017.bib'\n",
    "pre = 'url = {'\n",
    "post = '},'\n",
    "\n",
    "print('Scan of {} started at {}'.format(filepath, time_string()))\n",
    "with open(filepath) as fp:\n",
    "    line = fp.readline()\n",
    "    cnt = 1\n",
    "    while line:\n",
    "        if line.strip().startswith(pre):\n",
    "            url = line.replace(pre, '').replace(post, '').rstrip()\n",
    "            # print('Line {}: {}'.format(cnt, url))\n",
    "            try:\n",
    "                code = requests.head(url).status_code\n",
    "            except Exception as e: \n",
    "                code = e\n",
    "            if (code != 200):\n",
    "                print('Line {}: {} {}'.format(cnt, url, code))\n",
    "                \n",
    "        line = fp.readline()\n",
    "        cnt += 1\n",
    "print('Scan of {} ended at {}'.format(filepath, time_string()))"
   ]
  },
  {
   "cell_type": "code",
   "execution_count": 30,
   "metadata": {},
   "outputs": [
    {
     "name": "stdout",
     "output_type": "stream",
     "text": [
      "Current date and time : \n",
      "2020-02-06 17:55:10\n"
     ]
    }
   ],
   "source": [
    "import datetime\n",
    "now = datetime.datetime.now()\n",
    "print (\"Current date and time : \")\n",
    "print (now.strftime(\"%Y-%m-%d %H:%M:%S\"))\n"
   ]
  },
  {
   "cell_type": "code",
   "execution_count": 14,
   "metadata": {},
   "outputs": [
    {
     "data": {
      "text/plain": [
       "'  osf.io/7adhq'"
      ]
     },
     "execution_count": 14,
     "metadata": {},
     "output_type": "execute_result"
    }
   ],
   "source": [
    "url.replace('\\n', '')"
   ]
  },
  {
   "cell_type": "code",
   "execution_count": 28,
   "metadata": {},
   "outputs": [
    {
     "data": {
      "text/plain": [
       "200"
      ]
     },
     "execution_count": 28,
     "metadata": {},
     "output_type": "execute_result"
    }
   ],
   "source": [
    "code"
   ]
  },
  {
   "cell_type": "code",
   "execution_count": 4,
   "metadata": {},
   "outputs": [
    {
     "name": "stdout",
     "output_type": "stream",
     "text": [
      "Match 1 was found at 0-36: @unpublished{deloso_parasitoid_2018,\n",
      "Group 1 found at 0-13: @unpublished{\n",
      "Group 2 found at 13-35: deloso_parasitoid_2018\n"
     ]
    }
   ],
   "source": [
    "# coding=utf8\n",
    "# the above tag defines encoding for this document and is for Python 2.x compatibility\n",
    "\n",
    "import re\n",
    "\n",
    "regex = r\"(@.*{)(.*),\"\n",
    "\n",
    "test_str = \"@unpublished{deloso_parasitoid_2018,\"\n",
    "\n",
    "matches = re.finditer(regex, test_str, re.MULTILINE)\n",
    "\n",
    "for matchNum, match in enumerate(matches, start=1):\n",
    "    \n",
    "    print (\"Match {matchNum} was found at {start}-{end}: {match}\".format(matchNum = matchNum, start = match.start(), end = match.end(), match = match.group()))\n",
    "    \n",
    "    for groupNum in range(0, len(match.groups())):\n",
    "        groupNum = groupNum + 1\n",
    "        \n",
    "        print (\"Group {groupNum} found at {start}-{end}: {group}\".format(groupNum = groupNum, start = match.start(groupNum), end = match.end(groupNum), group = match.group(groupNum)))\n",
    "\n",
    "# Note: for Python 2.7 compatibility, use ur\"\" to prefix the regex and u\"\" to prefix the test string and substitution.\n"
   ]
  },
  {
   "cell_type": "code",
   "execution_count": 3,
   "metadata": {},
   "outputs": [
    {
     "name": "stdout",
     "output_type": "stream",
     "text": [
      "Match 1 was found at 2-71: url = {https://ashs.confex.com/ashs/2018/meetingapp.cgi/Paper/28523},\n",
      "Group 1 found at 2-9: url = {\n",
      "Group 2 found at 9-69: https://ashs.confex.com/ashs/2018/meetingapp.cgi/Paper/28523\n"
     ]
    }
   ],
   "source": [
    "# coding=utf8\n",
    "# the above tag defines encoding for this document and is for Python 2.x compatibility\n",
    "\n",
    "import re\n",
    "\n",
    "regex = r\"(url = {)(.*)},\"\n",
    "\n",
    "test_str = \"  url = {https://ashs.confex.com/ashs/2018/meetingapp.cgi/Paper/28523},\"\n",
    "\n",
    "matches = re.finditer(regex, test_str, re.MULTILINE)\n",
    "\n",
    "for matchNum, match in enumerate(matches, start=1):\n",
    "    \n",
    "    print (\"Match {matchNum} was found at {start}-{end}: {match}\".format(matchNum = matchNum, start = match.start(), end = match.end(), match = match.group()))\n",
    "    \n",
    "    for groupNum in range(0, len(match.groups())):\n",
    "        groupNum = groupNum + 1\n",
    "        \n",
    "        print (\"Group {groupNum} found at {start}-{end}: {group}\".format(groupNum = groupNum, start = match.start(groupNum), end = match.end(groupNum), group = match.group(groupNum)))\n",
    "\n",
    "# Note: for Python 2.7 compatibility, use ur\"\" to prefix the regex and u\"\" to prefix the test string and substitution.\n"
   ]
  },
  {
   "cell_type": "code",
   "execution_count": null,
   "metadata": {},
   "outputs": [],
   "source": []
  }
 ],
 "metadata": {
  "kernelspec": {
   "display_name": "gurus",
   "language": "python",
   "name": "gurus"
  },
  "language_info": {
   "codemirror_mode": {
    "name": "ipython",
    "version": 2
   },
   "file_extension": ".py",
   "mimetype": "text/x-python",
   "name": "python",
   "nbconvert_exporter": "python",
   "pygments_lexer": "ipython2",
   "version": "2.7.12"
  }
 },
 "nbformat": 4,
 "nbformat_minor": 2
}
