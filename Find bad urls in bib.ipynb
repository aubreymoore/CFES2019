{
 "cells": [
  {
   "cell_type": "code",
   "execution_count": 9,
   "metadata": {},
   "outputs": [],
   "source": [
    "import datetime\n",
    "import requests\n",
    "import re"
   ]
  },
  {
   "cell_type": "code",
   "execution_count": 10,
   "metadata": {},
   "outputs": [
    {
     "name": "stdout",
     "output_type": "stream",
     "text": [
      "06-Feb-2020 21:22:12\n"
     ]
    }
   ],
   "source": [
    "def time_string():\n",
    "    return datetime.datetime.now().strftime(\"%d-%b-%Y %H:%M:%S\")\n",
    "\n",
    "print(time_string())"
   ]
  },
  {
   "cell_type": "code",
   "execution_count": 11,
   "metadata": {},
   "outputs": [
    {
     "name": "stdout",
     "output_type": "stream",
     "text": [
      "aubrey_moore_coconut_2018-1\n"
     ]
    }
   ],
   "source": [
    "def get_citekey(line):\n",
    "    \"\"\"\n",
    "    returns citekey or none\n",
    "    \"\"\"\n",
    "    regex = r\"^\\s*@.*{(.*),\"\n",
    "    matchObj = re.match(regex, line)\n",
    "    if matchObj:\n",
    "        return matchObj.group(1)\n",
    "    else:\n",
    "        return None\n",
    "    \n",
    "line = '@unpublished{aubrey_moore_coconut_2018-1,'\n",
    "print(get_citekey(line))"
   ]
  },
  {
   "cell_type": "code",
   "execution_count": 12,
   "metadata": {
    "scrolled": true
   },
   "outputs": [
    {
     "name": "stdout",
     "output_type": "stream",
     "text": [
      "https://ndownloader.figshare.com/files/13141172\n"
     ]
    }
   ],
   "source": [
    "def get_url(line):\n",
    "    \"\"\"\n",
    "    returns url or none\n",
    "    \"\"\"\n",
    "    regex = r\"^\\s*url = {(.*)},\"\n",
    "    matchObj = re.match(regex, line)\n",
    "    if matchObj:\n",
    "        return matchObj.group(1)\n",
    "    else:\n",
    "        return None\n",
    "    \n",
    "line = '      url = {https://ndownloader.figshare.com/files/13141172},'\n",
    "print(get_url(line))"
   ]
  },
  {
   "cell_type": "code",
   "execution_count": 13,
   "metadata": {},
   "outputs": [
    {
     "name": "stdout",
     "output_type": "stream",
     "text": [
      "302\n"
     ]
    }
   ],
   "source": [
    "def verify_url(url):\n",
    "    \"\"\"\n",
    "    returns status code or none\n",
    "    \"\"\"\n",
    "    try:\n",
    "        code = requests.head(url).status_code\n",
    "    except Exception as e: \n",
    "        code = e\n",
    "    return code\n",
    "\n",
    "url = 'https://ndownloader.figshare.com/files/13141172'\n",
    "print(verify_url(url))"
   ]
  },
  {
   "cell_type": "code",
   "execution_count": 14,
   "metadata": {},
   "outputs": [
    {
     "name": "stdout",
     "output_type": "stream",
     "text": [
      "Scan of MooreAfter2017.bib started at 06-Feb-2020 21:22:13\n",
      "aubrey_moore_coconut_2018-1\n",
      "https://ndownloader.figshare.com/files/13141172\n",
      "302\n",
      "\n",
      "blas_protecting_2018\n",
      "https://www.apsnet.org/members/divisions/pac/meetings/Documents/APS_PacificDivisionCSPP_2018_PROGRAM%20SCHEDULE.pdf\n",
      "404\n",
      "\n",
      "deloso_parasitoid_2018\n",
      "https://ashs.confex.com/ashs/2018/meetingapp.cgi/Paper/28523\n",
      "404\n",
      "\n",
      "moore_2019_2019\n",
      "https://github.com/aubreymoore/2019-Forest-Service-Review/raw/master/2019%20Forest%20Service%20Review.pdf\n",
      "302\n",
      "\n",
      "moore_animal_2018\n",
      "https://github.com/aubreymoore/Miscellaneous-Docs-for-CFES2018/raw/master/Animal%20Scientist%20Announcement%20-%20American%20Society%20of%20Animal%20Science.pdf\n",
      "302\n",
      "\n",
      "moore_attempted_2018\n",
      "https://www.zotero.org/aubreymoore/items/7VDF7QFR/file\n",
      "302\n",
      "\n",
      "moore_aubreymoore/answers--pitch-questions_2019\n",
      "https://github.com/aubreymoore/answers-to-pitch-questions/raw/master/pitch.pdf\n",
      "404\n",
      "\n",
      "moore_biological_2018\n",
      "https://github.com/aubreymoore/Guam-Bioinvasion-July-2018/raw/master/compress_biological_invasion_of_guam_July_2018.pdf\n",
      "302\n",
      "\n",
      "moore_cnas_2018\n",
      "https://github.com/aubreymoore/Miscellaneous-Docs-for-CFES2018/raw/master/BYOB_03_07_18.pdf\n",
      "302\n",
      "\n",
      "moore_entomology_2019\n",
      "osf.io/ndz2h\n",
      "Invalid URL 'osf.io/ndz2h': No schema supplied. Perhaps you meant http://osf.io/ndz2h?\n",
      "\n",
      "moore_farm_2018\n",
      "https://github.com/aubreymoore/Miscellaneous-Docs-for-CFES2018/raw/master/FY18-GU-CRB%20biocontrol%20workplan.pdf\n",
      "302\n",
      "\n",
      "moore_free_2018\n",
      "https://github.com/aubreymoore/Free-Cell-Phone-Apps-for-Pest-Surveys/raw/master/iNatEpi.pdf\n",
      "302\n",
      "\n",
      "moore_fy19_2018\n",
      "https://github.com/aubreymoore/Miscellaneous-Docs-for-CFES2018/raw/master/MooreFB19.pdf\n",
      "302\n",
      "\n",
      "moore_fy19_2018-1\n",
      "https://github.com/aubreymoore/Miscellaneous-Docs-for-CFES2018/raw/master/MooreFB19.pdf\n",
      "302\n",
      "\n",
      "moore_internship_2018\n",
      "https://github.com/aubreymoore/Miscellaneous-Docs-for-CFES2018/raw/master/internship.pdf\n",
      "302\n",
      "\n",
      "moore_mcintire-stennis_2018\n",
      "https://github.com/aubreymoore/Miscellaneous-Docs-for-CFES2018/raw/master/ms_proposal_2018.pdf\n",
      "302\n",
      "\n",
      "moore_npdn_2018\n",
      "https://github.com/aubreymoore/Miscellaneous-Docs-for-CFES2018/raw/master/Guam%20WPDN-Accomplishments%20Summary%20Form%202018%20final.pdf\n",
      "302\n",
      "\n",
      "moore_online_2018\n",
      "http://scan-bugs.org/portal/collections/list.php?collector=Laird-Hopkins&db=all&page=1\n",
      "301\n",
      "\n",
      "moore_piddrs_2019-1\n",
      "osf.io/rz5u6\n",
      "Invalid URL 'osf.io/rz5u6': No schema supplied. Perhaps you meant http://osf.io/rz5u6?\n",
      "\n",
      "moore_radio_2018\n",
      "https://www.radionz.co.nz/international/programmes/datelinepacific/audio/2018657196/viral-control-wanted-for-coconut-rhinoceros-beetle\n",
      "301\n",
      "\n",
      "moore_scan_2018\n",
      "http://scan-bugs.org/portal/collections/misc/collprofiles.php?collid=180\n",
      "301\n",
      "\n",
      "moore_trip_2018\n",
      "https://github.com/aubreymoore/Miscellaneous-Docs-for-CFES2018/raw/master/Berkeley_Trip_report.pdf\n",
      "302\n",
      "\n",
      "moore_university_2018\n",
      "https://github.com/aubreymoore/Miscellaneous-Docs-for-CFES2018/raw/master/Univ%20of%20Guam%20WPDN%20budget%202017-18-Final.pdf\n",
      "302\n",
      "\n",
      "moore_uog_2018\n",
      "https://github.com/aubreymoore/Miscellaneous-Docs-for-CFES2018/raw/master/UOG%20Animal%20Scientist%20Announcement.pdf\n",
      "302\n",
      "\n",
      "quitugua_2018_2018\n",
      "https://github.com/aubreymoore/Free-Cell-Phone-Apps-for-Pest-Surveys/raw/master/2018%20CRB%20workshop%20for%20CNMI.pdf\n",
      "302\n",
      "\n",
      "Scan of MooreAfter2017.bib ended at 06-Feb-2020 21:23:39\n",
      "The above info has been written to bad_urls.txt\n"
     ]
    }
   ],
   "source": [
    "filepath = 'MooreAfter2017.bib'\n",
    "timestamp = 'Scan of {} started at {}'.format(filepath, time_string())\n",
    "print(timestamp)\n",
    "s = '{}\\n'.format(timestamp)\n",
    "\n",
    "with open(filepath) as fp:\n",
    "    for line in fp:\n",
    "        citekey = get_citekey(line)\n",
    "        if citekey:\n",
    "            current_citekey = citekey\n",
    "        url = get_url(line)\n",
    "        if url:\n",
    "            code = verify_url(url)\n",
    "            if code != 200:\n",
    "                print(current_citekey)\n",
    "                s += '{}\\n'.format(current_citekey)\n",
    "                print(url)\n",
    "                s += '{}\\n'.format(url)\n",
    "                print(code)\n",
    "                s += '{}\\n'.format(code)\n",
    "                print\n",
    "                s += '\\n'               \n",
    "timestamp = 'Scan of {} ended at {}'.format(filepath, time_string())\n",
    "print(timestamp)\n",
    "s += '{}\\n'.format(timestamp)\n",
    "\n",
    "with open('bad_urls.txt', 'w') as outfile:\n",
    "    outfile.write(s)\n",
    "print('The above info has been written to bad_urls.txt')"
   ]
  },
  {
   "cell_type": "code",
   "execution_count": null,
   "metadata": {},
   "outputs": [],
   "source": []
  }
 ],
 "metadata": {
  "kernelspec": {
   "display_name": "gurus",
   "language": "python",
   "name": "gurus"
  },
  "language_info": {
   "codemirror_mode": {
    "name": "ipython",
    "version": 2
   },
   "file_extension": ".py",
   "mimetype": "text/x-python",
   "name": "python",
   "nbconvert_exporter": "python",
   "pygments_lexer": "ipython2",
   "version": "2.7.12"
  }
 },
 "nbformat": 4,
 "nbformat_minor": 2
}
